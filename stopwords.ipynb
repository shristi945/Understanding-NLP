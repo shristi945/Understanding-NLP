{
 "cells": [
  {
   "cell_type": "code",
   "execution_count": 1,
   "metadata": {},
   "outputs": [],
   "source": [
    "import spacy"
   ]
  },
  {
   "cell_type": "code",
   "execution_count": 2,
   "metadata": {},
   "outputs": [],
   "source": [
    "nlp = spacy.load('en_core_web_sm')"
   ]
  },
  {
   "cell_type": "code",
   "execution_count": 3,
   "metadata": {},
   "outputs": [
    {
     "name": "stdout",
     "output_type": "stream",
     "text": [
      "{'behind', 'elsewhere', 'onto', 'been', 'third', 'where', 'since', 'seem', 'latterly', 'yours', 'wherein', 'make', 'please', 'six', 'regarding', 'unless', 'him', 'against', 'beside', 'up', 'however', 'mostly', '’s', 'almost', \"'ve\", 'the', 'thereby', 'from', 'something', 'cannot', 'us', 'nobody', 'ourselves', 'by', 'because', 'each', 'between', 'using', 'or', 'his', 'whereas', 'nine', 'somewhere', 'they', 'three', 'which', 'whence', 'anyhow', 'many', \"'d\", 'moreover', 'across', 'she', 'within', 'this', 'its', '’m', 'besides', 'everywhere', 'still', 'get', 'hers', 'eleven', 'seems', 'on', 'except', 'enough', 'least', 'whenever', 'did', 'n’t', 'too', 'becoming', 'yourself', 'often', 'her', 'thru', 'wherever', 'around', 'sometime', '‘re', '‘s', 'do', 'more', 'name', 'through', 'anything', 'what', 'a', 'made', 'much', 'four', 'noone', 'someone', 'itself', 'twelve', 'first', 'ten', 'might', 'whatever', '’re', 'you', 'anyway', 'would', 'therefore', 'here', 'further', 'either', 'myself', 'himself', 'can', \"'m\", 'towards', 'part', 'well', 'never', 'has', 'less', 'together', 'those', 'again', 'another', 'next', 'who', 'also', 'into', 'just', 'really', 'had', '‘ll', 'give', 'former', 'per', 'become', 'alone', 'other', 'serious', 'latter', 'put', 'sixty', 'upon', 'hence', 'down', 'ever', 'nevertheless', 'hereupon', 'during', 'themselves', 'therein', 'few', 'i', 'though', 'via', 'only', 'yourselves', 'yet', 'below', 'thereupon', \"'s\", 'empty', 'at', 'for', 'used', '‘m', 'it', 'everything', 'somehow', 'say', 'among', 'one', 'sometimes', 'their', 'show', 'beforehand', 'top', 'move', 'any', 'neither', 'n‘t', 'but', 'several', 'how', 'without', 'then', 'doing', 'until', 'always', 'fifteen', 'why', 'be', 'whether', 'seeming', 'me', 'must', 'twenty', 'whoever', 'herself', 'some', 'he', '‘ve', 'perhaps', 'nothing', 'above', 'fifty', 'as', 'your', 'no', 'may', 'over', 'so', 'already', 'than', 'bottom', 'we', 'go', 'very', 'whom', 'there', 'our', 'done', 'hundred', 'should', 'afterwards', 'front', 'most', 'in', 'mine', 'whole', 'thereafter', 'beyond', 'an', 'ca', 'forty', 'my', 'with', 'everyone', 'namely', 'take', 'now', 'five', 'were', 'after', 'every', 'whereby', 'rather', 'along', '‘d', 'none', 'under', 'whither', 'was', 'if', 'nor', 'out', 'indeed', 'own', 'call', 'such', 'could', 'throughout', 'am', 'even', 'that', 'herein', 'last', 'due', 're', \"n't\", '’ve', 'before', \"'re\", 'same', 'anyone', 'two', 'thence', 'amount', 'nowhere', 'of', 'others', 'although', 'anywhere', 'have', 'is', 'to', 'while', 'not', 'thus', 'about', 'otherwise', 'becomes', 'meanwhile', 'when', 'full', 'both', '’d', 'being', 'off', 'does', 'are', 'seemed', 'whose', 'these', 'ours', 'hereby', 'became', 'see', 'keep', 'and', 'various', 'will', '’ll', 'side', 'eight', 'whereupon', 'whereafter', 'amongst', 'formerly', 'else', 'all', \"'ll\", 'quite', 'hereafter', 'back', 'once', 'toward', 'them'}\n"
     ]
    }
   ],
   "source": [
    "print(nlp.Defaults.stop_words)"
   ]
  },
  {
   "cell_type": "code",
   "execution_count": 4,
   "metadata": {},
   "outputs": [
    {
     "data": {
      "text/plain": [
       "False"
      ]
     },
     "execution_count": 4,
     "metadata": {},
     "output_type": "execute_result"
    }
   ],
   "source": [
    "nlp.vocab['mystery'].is_stop"
   ]
  },
  {
   "cell_type": "code",
   "execution_count": 5,
   "metadata": {},
   "outputs": [],
   "source": [
    "nlp.Defaults.stop_words.add('hh')"
   ]
  },
  {
   "cell_type": "code",
   "execution_count": 6,
   "metadata": {},
   "outputs": [],
   "source": [
    "nlp.vocab['hh'].is_stop = True"
   ]
  },
  {
   "cell_type": "code",
   "execution_count": 7,
   "metadata": {},
   "outputs": [
    {
     "data": {
      "text/plain": [
       "True"
      ]
     },
     "execution_count": 7,
     "metadata": {},
     "output_type": "execute_result"
    }
   ],
   "source": [
    "nlp.vocab['hh'].is_stop"
   ]
  },
  {
   "cell_type": "code",
   "execution_count": 8,
   "metadata": {},
   "outputs": [
    {
     "data": {
      "text/plain": [
       "327"
      ]
     },
     "execution_count": 8,
     "metadata": {},
     "output_type": "execute_result"
    }
   ],
   "source": [
    "len(nlp.Defaults.stop_words)"
   ]
  },
  {
   "cell_type": "code",
   "execution_count": null,
   "metadata": {},
   "outputs": [],
   "source": []
  }
 ],
 "metadata": {
  "kernelspec": {
   "display_name": "Python 3",
   "language": "python",
   "name": "python3"
  },
  "language_info": {
   "codemirror_mode": {
    "name": "ipython",
    "version": 3
   },
   "file_extension": ".py",
   "mimetype": "text/x-python",
   "name": "python",
   "nbconvert_exporter": "python",
   "pygments_lexer": "ipython3",
   "version": "3.7.6"
  }
 },
 "nbformat": 4,
 "nbformat_minor": 4
}
