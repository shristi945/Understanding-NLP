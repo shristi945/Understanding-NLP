{
 "cells": [
  {
   "cell_type": "code",
   "execution_count": 2,
   "metadata": {},
   "outputs": [],
   "source": [
    "\n",
    "import spacy\n",
    "nlp = spacy.load('en_core_web_sm')"
   ]
  },
  {
   "cell_type": "code",
   "execution_count": 3,
   "metadata": {},
   "outputs": [],
   "source": [
    "with open('../nlp/UPDATED_NLP_COURSE/TextFiles/owlcreek.txt', encoding = 'utf-8') as f:\n",
    "    doc = nlp(f.read())"
   ]
  },
  {
   "cell_type": "code",
   "execution_count": 4,
   "metadata": {},
   "outputs": [
    {
     "data": {
      "text/plain": [
       "AN OCCURRENCE AT OWL CREEK BRIDGE\n",
       "\n",
       "by Ambrose Bierce\n",
       "\n",
       "I\n",
       "\n",
       "A man stood upon a railroad bridge in northern Alabama, looking down\n",
       "into the swift water twenty feet below.  "
      ]
     },
     "execution_count": 4,
     "metadata": {},
     "output_type": "execute_result"
    }
   ],
   "source": [
    "doc[:36]"
   ]
  },
  {
   "cell_type": "code",
   "execution_count": 5,
   "metadata": {},
   "outputs": [
    {
     "name": "stdout",
     "output_type": "stream",
     "text": [
      "4835\n"
     ]
    }
   ],
   "source": [
    "count = 0\n",
    "for token in doc:\n",
    "    count = count +1\n",
    "    \n",
    "print(count)"
   ]
  },
  {
   "cell_type": "code",
   "execution_count": 8,
   "metadata": {},
   "outputs": [
    {
     "data": {
      "text/plain": [
       "249"
      ]
     },
     "execution_count": 8,
     "metadata": {},
     "output_type": "execute_result"
    }
   ],
   "source": [
    "l = []\n",
    "for sent in doc.sents:\n",
    "    l.append(sent)\n",
    "len(l)"
   ]
  },
  {
   "cell_type": "code",
   "execution_count": 9,
   "metadata": {},
   "outputs": [
    {
     "name": "stdout",
     "output_type": "stream",
     "text": [
      "A man stood upon a railroad bridge in northern Alabama, looking down\n",
      "into the swift water twenty feet below.  \n"
     ]
    }
   ],
   "source": [
    "count = 0\n",
    "for sent in doc.sents:\n",
    "    if count == 2:\n",
    "        print(sent)\n",
    "        break\n",
    "    count = count +1"
   ]
  },
  {
   "cell_type": "code",
   "execution_count": 13,
   "metadata": {},
   "outputs": [
    {
     "name": "stdout",
     "output_type": "stream",
     "text": [
      "A man stood upon a railroad bridge in northern Alabama, looking down\n",
      "into the swift water twenty feet below.  \n",
      "A \t\t DET \t\t det a\n",
      "man \t\t NOUN \t\t nsubj man\n",
      "stood \t\t VERB \t\t ROOT stand\n",
      "upon \t\t SCONJ \t\t prep upon\n",
      "a \t\t DET \t\t det a\n",
      "railroad \t\t NOUN \t\t compound railroad\n",
      "bridge \t\t NOUN \t\t pobj bridge\n",
      "in \t\t ADP \t\t prep in\n",
      "northern \t\t ADJ \t\t amod northern\n",
      "Alabama \t\t PROPN \t\t pobj Alabama\n",
      ", \t\t PUNCT \t\t punct ,\n",
      "looking \t\t VERB \t\t advcl look\n",
      "down \t\t ADV \t\t prt down\n",
      "\n",
      " \t\t SPACE \t\t  \n",
      "\n",
      "into \t\t ADP \t\t prep into\n",
      "the \t\t DET \t\t det the\n",
      "swift \t\t ADJ \t\t amod swift\n",
      "water \t\t NOUN \t\t pobj water\n",
      "twenty \t\t NUM \t\t nummod twenty\n",
      "feet \t\t NOUN \t\t npadvmod foot\n",
      "below \t\t ADV \t\t advmod below\n",
      ". \t\t PUNCT \t\t punct .\n",
      "  \t\t SPACE \t\t   \n"
     ]
    }
   ],
   "source": [
    "count = 0\n",
    "for sent in doc.sents:\n",
    "    if count == 2:\n",
    "        req = sent\n",
    "        print(sent)\n",
    "        break\n",
    "    count = count +1\n",
    "for token in req:\n",
    "    print(token.text,'\\t\\t', token.pos_, '\\t\\t', token.dep_, token.lemma_)"
   ]
  },
  {
   "cell_type": "code",
   "execution_count": 14,
   "metadata": {},
   "outputs": [],
   "source": [
    "# Import the Matcher library:\n",
    "\n",
    "from spacy.matcher import Matcher\n",
    "matcher = Matcher(nlp.vocab)"
   ]
  },
  {
   "cell_type": "code",
   "execution_count": null,
   "metadata": {},
   "outputs": [],
   "source": [
    "pattern = {}"
   ]
  }
 ],
 "metadata": {
  "kernelspec": {
   "display_name": "Python 3",
   "language": "python",
   "name": "python3"
  },
  "language_info": {
   "codemirror_mode": {
    "name": "ipython",
    "version": 3
   },
   "file_extension": ".py",
   "mimetype": "text/x-python",
   "name": "python",
   "nbconvert_exporter": "python",
   "pygments_lexer": "ipython3",
   "version": "3.7.6"
  }
 },
 "nbformat": 4,
 "nbformat_minor": 4
}
